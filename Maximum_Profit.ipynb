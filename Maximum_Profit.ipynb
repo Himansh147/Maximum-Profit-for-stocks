{
  "nbformat": 4,
  "nbformat_minor": 0,
  "metadata": {
    "colab": {
      "provenance": []
    },
    "kernelspec": {
      "name": "python3",
      "display_name": "Python 3"
    },
    "language_info": {
      "name": "python"
    }
  },
  "cells": [
    {
      "cell_type": "code",
      "execution_count": 3,
      "metadata": {
        "id": "7mizEYKDbAUb"
      },
      "outputs": [],
      "source": [
        "\n",
        "class MaximumProfitFinder:\n",
        "    def maximumProfit(self, list, fees):\n",
        "        def cost(i, n, prev):\n",
        "            if i >= n:\n",
        "                return 0\n",
        "            elif prev == True:\n",
        "                return max(cost(i+1, n, False) + prices[i] - fees, cost(i + 1, n, prev))\n",
        "            else:\n",
        "                return max(cost(i+1, n, True) - prices[i], cost(i + 1, n, prev))\n",
        "        return cost(0, len(prices), False)"
      ]
    },
    {
      "cell_type": "code",
      "source": [
        "profit = MaximumProfitFinder()\n",
        "prices = [10, 20, 30, 40, 50]\n",
        "print(profit.maximumProfit(prices, fees=15))"
      ],
      "metadata": {
        "colab": {
          "base_uri": "https://localhost:8080/"
        },
        "id": "XXH5UrY_bzfx",
        "outputId": "5e656077-218f-4b15-8c5c-1a078f848a83"
      },
      "execution_count": 4,
      "outputs": [
        {
          "output_type": "stream",
          "name": "stdout",
          "text": [
            "25\n"
          ]
        }
      ]
    }
  ]
}